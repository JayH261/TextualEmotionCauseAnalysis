{
 "cells": [
  {
   "cell_type": "code",
   "execution_count": 1,
   "metadata": {},
   "outputs": [],
   "source": [
    "'''\n",
    "This file is to preprocess data\n",
    "Jay Ho, David Khankin\n",
    "'''\n",
    "import csv, json"
   ]
  },
  {
   "cell_type": "code",
   "execution_count": 2,
   "metadata": {},
   "outputs": [],
   "source": [
    "# Training data path\n",
    "train_data_path = \"text_train/Subtask_1_2_train.json\"\n",
    "# Load json training data\n",
    "with open(train_data_path, \"r\") as read_file:\n",
    "    train_dataset = json.load(read_file)"
   ]
  },
  {
   "cell_type": "code",
   "execution_count": 4,
   "metadata": {},
   "outputs": [],
   "source": [
    "# Save data as csv file so it can be faster when convert into panda dataframe - Emotion specific data\n",
    "with open('train_emotion_data.csv', 'w', newline='') as file:\n",
    "    writer = csv.writer(file)\n",
    "    #writer.writerow([\"conversation_ID\", \"utterance_ID\", \"text\", \"emotion\", \"speaker\"]) # create column titles\n",
    "    writer.writerow([\"conversation_id\", \"utterance_ID\", \"text\", \"emotion\", \"speaker\"]) # create column titles\n",
    "    \n",
    "    # visit each conversation\n",
    "    for i in range(len(train_dataset)):\n",
    "        conversation_id = train_dataset[i][\"conversation_ID\"]\n",
    "        # visit each utterance within a conversation and save to the csv file\n",
    "        for utterance in train_dataset[i][\"conversation\"]:\n",
    "            row = [conversation_id, utterance[\"utterance_ID\"], utterance[\"text\"], utterance[\"emotion\"], utterance[\"speaker\"]]\n",
    "            writer.writerow(row)\n",
    "file.close()"
   ]
  },
  {
   "cell_type": "code",
   "execution_count": 4,
   "metadata": {},
   "outputs": [],
   "source": [
    "# Save data as csv file so it can be faster when convert into panda dataframe - Emotion specific data\n",
    "with open('train_emocause_data.csv', 'w', newline='') as file:\n",
    "    writer = csv.writer(file)\n",
    "    writer.writerow([\"conversation_ID\", \"emotion_utterance_ID\", \"emotion\", \"cause_utterance_ID\", \"emotion_cause\"]) # create column titles\n",
    "\n",
    "    # visit each conversation\n",
    "    for i in range(len(train_dataset)):\n",
    "        conversation_id = train_dataset[i][\"conversation_ID\"]\n",
    "        # visit each utterance within a conversation and save to the csv file\n",
    "        for pair in train_dataset[i][\"emotion-cause_pairs\"]:\n",
    "            emotion_text = pair[0].split(\"_\")\n",
    "            cause_text = pair[1].split(\"_\")\n",
    "            # row = [\"conversation_ID\", \"emotion_ID\", \"emotion\", \"cause_ID\", \"cause\"]\n",
    "            row = [conversation_id, emotion_text[0], emotion_text[1], cause_text[0], cause_text[1]]\n",
    "            writer.writerow(row)\n",
    "file.close()"
   ]
  }
 ],
 "metadata": {
  "kernelspec": {
   "display_name": "jayenv",
   "language": "python",
   "name": "python3"
  },
  "language_info": {
   "codemirror_mode": {
    "name": "ipython",
    "version": 3
   },
   "file_extension": ".py",
   "mimetype": "text/x-python",
   "name": "python",
   "nbconvert_exporter": "python",
   "pygments_lexer": "ipython3",
   "version": "3.11.5"
  },
  "orig_nbformat": 4
 },
 "nbformat": 4,
 "nbformat_minor": 2
}
